{
 "cells": [
  {
   "attachments": {},
   "cell_type": "markdown",
   "metadata": {},
   "source": [
    "# set up"
   ]
  },
  {
   "cell_type": "code",
   "execution_count": null,
   "metadata": {},
   "outputs": [],
   "source": [
    "import numpy as np\n",
    "import torch\n",
    "import matplotlib.pyplot as plt\n",
    "import cv2"
   ]
  },
  {
   "cell_type": "code",
   "execution_count": null,
   "metadata": {},
   "outputs": [],
   "source": [
    "def show_mask(mask, ax, random_color=False):\n",
    "    if random_color:\n",
    "        color = np.concatenate([np.random.random(3), np.array([0.6])], axis=0)\n",
    "    else:\n",
    "        color = np.array([30/255, 144/255, 255/255, 0.6])\n",
    "    h, w = mask.shape[-2:]\n",
    "    mask_image = mask.reshape(h, w, 1) * color.reshape(1, 1, -1)\n",
    "    ax.imshow(mask_image)\n",
    "    \n",
    "def show_points(coords, labels, ax, marker_size=375):\n",
    "    pos_points = coords[labels==1]\n",
    "    neg_points = coords[labels==0]\n",
    "    ax.scatter(pos_points[:, 0], pos_points[:, 1], color='green', marker='*', s=marker_size, edgecolor='white', linewidth=1.25)\n",
    "    ax.scatter(neg_points[:, 0], neg_points[:, 1], color='red', marker='*', s=marker_size, edgecolor='white', linewidth=1.25)   \n",
    "    \n",
    "def show_box(box, ax):\n",
    "    x0, y0 = box[0], box[1]\n",
    "    w, h = box[2] - box[0], box[3] - box[1]\n",
    "    ax.add_patch(plt.Rectangle((x0, y0), w, h, edgecolor='green', facecolor=(0,0,0,0), lw=2))  "
   ]
  },
  {
   "attachments": {},
   "cell_type": "markdown",
   "metadata": {},
   "source": [
    "# Load images"
   ]
  },
  {
   "cell_type": "code",
   "execution_count": null,
   "metadata": {},
   "outputs": [],
   "source": [
    "import os\n",
    "# Get a list of all the image files in the folder\n",
    "image_folder = '/home/noahr/repos/personal_projects/img_to_svg/Images'\n",
    "image_files = [os.path.join(image_folder, f) for f in os.listdir(image_folder) if f.endswith('.jpg')]"
   ]
  },
  {
   "attachments": {},
   "cell_type": "markdown",
   "metadata": {},
   "source": [
    "# Load model"
   ]
  },
  {
   "cell_type": "code",
   "execution_count": null,
   "metadata": {},
   "outputs": [],
   "source": [
    "!wget https://dl.fbaipublicfiles.com/segment_anything/sam_vit_b_01ec64.pth"
   ]
  },
  {
   "cell_type": "code",
   "execution_count": null,
   "metadata": {},
   "outputs": [],
   "source": [
    "!wget https://dl.fbaipublicfiles.com/segment_anything/sam_vit_l_0b3195.pth"
   ]
  },
  {
   "cell_type": "code",
   "execution_count": null,
   "metadata": {},
   "outputs": [],
   "source": [
    "!wget https://dl.fbaipublicfiles.com/segment_anything/sam_vit_h_4b8939.pth"
   ]
  },
  {
   "cell_type": "code",
   "execution_count": 1,
   "metadata": {},
   "outputs": [
    {
     "name": "stdout",
     "output_type": "stream",
     "text": [
      "--2023-06-18 20:17:15--  https://download.pytorch.org/models/retinanet_resnet50_fpn_coco-eeacb38b.pth\n",
      "Resolving download.pytorch.org (download.pytorch.org)... 99.86.178.43, 99.86.178.50, 99.86.178.33, ...\n",
      "Connecting to download.pytorch.org (download.pytorch.org)|99.86.178.43|:443... connected.\n",
      "HTTP request sent, awaiting response... 200 OK\n",
      "Length: 136595076 (130M) [binary/octet-stream]\n",
      "Saving to: ‘retinanet_resnet50_fpn_coco-eeacb38b.pth.1’\n",
      "\n",
      "retinanet_resnet50_ 100%[===================>] 130.27M  17.9MB/s    in 7.5s    \n",
      "\n",
      "2023-06-18 20:17:22 (17.4 MB/s) - ‘retinanet_resnet50_fpn_coco-eeacb38b.pth.1’ saved [136595076/136595076]\n",
      "\n"
     ]
    }
   ],
   "source": [
    "!wget https://download.pytorch.org/models/retinanet_resnet50_fpn_coco-eeacb38b.pth"
   ]
  },
  {
   "cell_type": "code",
   "execution_count": null,
   "metadata": {},
   "outputs": [],
   "source": [
    "import sys\n",
    "sys.path.append(\"..\")\n",
    "from segment_anything import sam_model_registry, SamPredictor\n",
    "\n",
    "sam_checkpoint = \"sam_vit_l_0b3195.pth\"\n",
    "model_type = \"vit_l\"\n",
    "\n",
    "device = \"cuda\"\n",
    "\n",
    "sam = sam_model_registry[model_type](checkpoint=sam_checkpoint)\n",
    "sam.to(device=device)\n",
    "\n",
    "predictor = SamPredictor(sam)"
   ]
  },
  {
   "attachments": {},
   "cell_type": "markdown",
   "metadata": {},
   "source": [
    "# Define paths for folders"
   ]
  },
  {
   "cell_type": "code",
   "execution_count": null,
   "metadata": {},
   "outputs": [],
   "source": [
    "# Define the paths to the images and masks folders (Change these to other folders in your machine if you prefer that)\n",
    "images_path = os.path.join(os.getcwd(), 'Images')\n",
    "masks_path = os.path.join(os.getcwd(), 'masks')\n",
    "cutouts_path = os.path.join(os.getcwd(), 'cutouts')\n",
    "svg_path = os.path.join(os.getcwd(), 'svg')"
   ]
  },
  {
   "attachments": {},
   "cell_type": "markdown",
   "metadata": {},
   "source": [
    "# Generate coco masks"
   ]
  },
  {
   "cell_type": "code",
   "execution_count": null,
   "metadata": {},
   "outputs": [],
   "source": [
    "from imageai.Detection import ObjectDetection\n",
    "import sys\n",
    "import os\n",
    "import torch\n",
    "import json\n",
    "import cv2\n",
    "import numpy as np\n",
    "sys.path.append(\"..\")\n",
    "import pycocotools.mask as maskUtils\n",
    "import os\n",
    "\n",
    "# Loop through all the files in the images folder\n",
    "for filename in os.listdir(images_path):\n",
    "    # Check if a mask file already exists for this image\n",
    "    mask_number = 0\n",
    "    mask_filename = os.path.splitext(filename)[0] + '_mask_{}.json'.format(mask_number)\n",
    "    while os.path.exists(os.path.join(masks_path, mask_filename)):\n",
    "        mask_number += 1\n",
    "        mask_filename = os.path.splitext(filename)[0] + '_mask_{}.json'.format(mask_number)\n",
    "    if mask_number > 0:\n",
    "        continue\n",
    "    \n",
    "    # Load the image\n",
    "    image = cv2.imread(os.path.join(images_path, filename))\n",
    "    image = cv2.cvtColor(image, cv2.COLOR_BGR2RGB)\n",
    "    \n",
    "    # Load the object detection model\n",
    "    detector = ObjectDetection()\n",
    "    detector.setModelTypeAsRetinaNet()\n",
    "    detector.setModelPath(\"/home/noahr/repos/personal_projects/img_to_svg/retinanet_resnet50_fpn_coco-eeacb38b.pth\")\n",
    "    detector.loadModel()\n",
    "    \n",
    "    # Detect humans in the image\n",
    "    detections = detector.detectObjectsFromImage(input_image=os.path.join(images_path, filename), minimum_percentage_probability=50, extract_detected_objects=False)\n",
    "    \n",
    "    # Filter the detections to only include humans\n",
    "    human_detections = [detection for detection in detections if detection[\"name\"] == \"person\"]\n",
    "    \n",
    "    # Load the predictor model\n",
    "    predictor = torch.hub.load('facebookresearch/detectron2:main', 'mask_rcnn', pretrained=True)\n",
    "    predictor.eval()\n",
    "    \n",
    "    # Process each human detection\n",
    "    for detection in human_detections:\n",
    "        input_box = detection[\"box_points\"]\n",
    "        masks, _, _ = predictor.predict(\n",
    "            point_coords=None,\n",
    "            point_labels=None,\n",
    "            box=np.array(input_box)[None, :],\n",
    "            multimask_output=True,\n",
    "        )\n",
    "        for i, mask in enumerate(masks):\n",
    "            # Convert the mask numpy array to a binary mask\n",
    "            mask_binary = np.zeros((mask.shape[0], mask.shape[1]), dtype=np.uint8)\n",
    "            mask_binary[mask > 0] = 1\n",
    "                \n",
    "            # Convert the binary mask to a COCO RLE format\n",
    "            mask_rle = maskUtils.encode(np.asfortranarray(mask_binary))\n",
    "                \n",
    "            # Extract the counts key from the mask RLE dictionary\n",
    "            counts = mask_rle['counts']\n",
    "                \n",
    "            # Create a new dictionary with the required keys for COCO RLE format\n",
    "            mask_coco_rle = {\n",
    "                'size': [mask.shape[0], mask.shape[1]],\n",
    "                'counts': counts.decode('utf-8'),\n",
    "            }\n",
    "                \n",
    "            # Save the mask COCO RLE to a file\n",
    "            mask_filename = os.path.splitext(filename)[0] + '_mask_{}.json'.format(i)\n",
    "            with open(os.path.join(masks_path, mask_filename), 'w') as f:\n",
    "                json.dump(mask_coco_rle, f)"
   ]
  },
  {
   "attachments": {},
   "cell_type": "markdown",
   "metadata": {},
   "source": [
    "# Create cutouts"
   ]
  },
  {
   "cell_type": "code",
   "execution_count": null,
   "metadata": {},
   "outputs": [],
   "source": [
    "import os\n",
    "import numpy as np\n",
    "import pycocotools.mask as maskUtils\n",
    "import json\n",
    "import cv2\n",
    "import matplotlib.pyplot as plt\n",
    "\n",
    "\n",
    "# Loop through all the files in the images folder\n",
    "for filename in os.listdir(images_path):\n",
    "    # Load the image\n",
    "    image = cv2.imread(os.path.join(images_path, filename))\n",
    "    \n",
    "    # Load the corresponding mask\n",
    "    mask_number = 0\n",
    "    cutout_number = 0\n",
    "    mask_filename = os.path.splitext(filename)[0] + '_mask_{}.json'.format(mask_number)\n",
    "    while os.path.exists(os.path.join(masks_path, mask_filename)):\n",
    "        with open(os.path.join(masks_path, mask_filename), 'r') as f:\n",
    "            rle_dict = json.load(f)\n",
    "        size = rle_dict['size']\n",
    "        counts = rle_dict['counts']\n",
    "        mask_decoded = maskUtils.decode({'size': size, 'counts': counts})\n",
    "        mask_binary = np.zeros((size[0], size[1]), dtype=np.uint8)\n",
    "        mask_binary[mask_decoded > 0] = 1\n",
    "\n",
    "        # Resize the mask to match the shape of the image\n",
    "        mask_resized = cv2.resize(mask_decoded, (image.shape[1], image.shape[0]))\n",
    "\n",
    "        # Extract the cutout from the image using the mask\n",
    "        cutout = image * mask_resized[..., np.newaxis]\n",
    "\n",
    "        # Create an alpha channel for the cutout image\n",
    "        alpha = np.zeros(cutout.shape[:2], dtype=np.uint8)\n",
    "        alpha[mask_resized > 0] = 255\n",
    "        cutout = cv2.merge((cutout, alpha))\n",
    "\n",
    "        # Crop the cutout image to the bounding rectangle\n",
    "        x, y, w, h = cv2.boundingRect(mask_resized)\n",
    "        cutout = cutout[y:y+h, x:x+w]\n",
    "\n",
    "        # Save the cutout to the cutouts folder\n",
    "        cutout_filename = os.path.splitext(filename)[0] + '_cutout_{}.png'.format(cutout_number)\n",
    "        if os.path.exists(os.path.join(cutouts_path, cutout_filename)):\n",
    "            os.remove(os.path.join(cutouts_path, cutout_filename))\n",
    "        cv2.imwrite(os.path.join(cutouts_path, cutout_filename), cutout)\n",
    "        \n",
    "        # Delete the mask file\n",
    "        os.remove(os.path.join(masks_path, mask_filename))\n",
    "        \n",
    "        # Increment the mask and cutout numbers\n",
    "        mask_number += 1\n",
    "        cutout_number += 1\n",
    "        mask_filename = os.path.splitext(filename)[0] + '_mask_{}.json'.format(mask_number)"
   ]
  },
  {
   "attachments": {},
   "cell_type": "markdown",
   "metadata": {},
   "source": [
    "## Make svg from png"
   ]
  },
  {
   "cell_type": "code",
   "execution_count": null,
   "metadata": {},
   "outputs": [],
   "source": [
    "import os\n",
    "import subprocess\n",
    "from PIL import Image\n",
    "\n",
    "# Define the paths to the cutouts and output folders\n",
    "cutouts_path = '/home/noahr/repos/personal_projects/img_to_svg/cutouts'\n",
    "output_path = '/home/noahr/repos/personal_projects/img_to_svg/svg'\n",
    "\n",
    "# Loop through all the files in the cutouts folder\n",
    "for filename in os.listdir(cutouts_path):\n",
    "    if filename.endswith('.png'):\n",
    "        # Define the paths to the input and output files\n",
    "        png_path = os.path.join(cutouts_path, filename)\n",
    "        pbm_path = os.path.join(cutouts_path, os.path.splitext(filename)[0] + '.pbm')\n",
    "        svg_filename = os.path.splitext(filename)[0] + '.svg'\n",
    "        svg_path = os.path.join(output_path, svg_filename)\n",
    "\n",
    "        # Convert the PNG to PBM format\n",
    "        with Image.open(png_path) as im:\n",
    "            im.convert('1').save(pbm_path)\n",
    "\n",
    "        # Call potrace to convert the PBM to SVG\n",
    "        subprocess.call(['potrace', '-s', pbm_path, '-o', svg_path])"
   ]
  }
 ],
 "metadata": {
  "kernelspec": {
   "display_name": "Python 3",
   "language": "python",
   "name": "python3"
  },
  "language_info": {
   "codemirror_mode": {
    "name": "ipython",
    "version": 3
   },
   "file_extension": ".py",
   "mimetype": "text/x-python",
   "name": "python",
   "nbconvert_exporter": "python",
   "pygments_lexer": "ipython3",
   "version": "3.10.6"
  },
  "orig_nbformat": 4
 },
 "nbformat": 4,
 "nbformat_minor": 2
}
