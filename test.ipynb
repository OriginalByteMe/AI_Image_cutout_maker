{
 "cells": [
  {
   "cell_type": "code",
   "execution_count": null,
   "metadata": {},
   "outputs": [],
   "source": [
    "import boto3\n",
    "from PIL import Image\n",
    "import os\n",
    "from botocore.exceptions import ClientError\n",
    "\n",
    "\n",
    "def test_process_image():\n",
    "    # Set up the test data\n",
    "    s3 = boto3.client(\n",
    "        \"s3\",\n",
    "        endpoint_url=\"https://13583f5ff84f5693a4a859a769743849.r2.cloudflarestorage.com\",\n",
    "        aws_access_key_id=\"52733bb777295dbf8912df8ae9549466\",\n",
    "        aws_secret_access_key=\"8bfc25e62071097ae93aed260702353d9341a80ee352e68561f9ac95e983055f\",\n",
    "        region_name=\"auto\",\n",
    "    )\n",
    "    bucket = s3.Bucket(\"cutoutimagestore\")\n",
    "    for obj in bucket.objects.all():\n",
    "        print(obj.key)\n",
    "    images = [\"Screenshot 2023-06-25 145608.png\", \"Screenshot 2023-06-25 151400.png\"]\n",
    "    # for image in images:\n",
    "    #     with open(image, 'w') as f:\n",
    "    #         f.write('test')\n",
    "    #     bucket.upload_file(image, image)\n",
    "    s3.Bucket(\"cutoutimagestore\").upload_file(\"image1.jpg\", \"image1.jpg\")\n",
    "    # Call the function being tested\n",
    "    for i, filename in enumerate(images):\n",
    "        print(\"Filename is:\", filename)\n",
    "        s3.Bucket(\"cutoutimagestore\").download_file(filename, filename)\n",
    "        # list_files(\".\")\n",
    "        image = Image.open(filename)\n",
    "        print(image)\n",
    "        # process_image(image, filename, 'test', 'test', 'test')\n",
    "\n",
    "    # Clean up the test data\n",
    "    # for image in images:\n",
    "    #     os.remove(image)\n",
    "    #     bucket.Object(image).delete()\n",
    "\n",
    "\n",
    "def generate_preview_url(bucket_name, key):\n",
    "    s3 = boto3.client(\n",
    "        \"s3\",\n",
    "        endpoint_url=\"https://13583f5ff84f5693a4a859a769743849.r2.cloudflarestorage.com\",\n",
    "        aws_access_key_id=\"52733bb777295dbf8912df8ae9549466\",\n",
    "        aws_secret_access_key=\"8bfc25e62071097ae93aed260702353d9341a80ee352e68561f9ac95e983055f\",\n",
    "        region_name=\"auto\",\n",
    "    )\n",
    "\n",
    "    try:\n",
    "        response = s3.generate_presigned_url(\n",
    "            \"get_object\",\n",
    "            Params={\n",
    "                \"Bucket\": bucket_name,\n",
    "                \"Key\": key,\n",
    "                \"ResponseContentType\": \"image/jpeg\",\n",
    "            },\n",
    "        )\n",
    "    except ClientError as e:\n",
    "        print(e)\n",
    "        return None\n",
    "\n",
    "    return response\n",
    "\n",
    "\n",
    "img = Image.open(\"image1.jpg\")\n",
    "width, height = img.size\n",
    "url = generate_preview_url(\n",
    "    \"cutoutimagestore\", \"image1.jpg\"\n",
    ")\n",
    "print(url)\n",
    "\n",
    "# test_process_image()"
   ]
  },
  {
   "cell_type": "code",
   "execution_count": null,
   "metadata": {},
   "outputs": [],
   "source": [
    "import os\n",
    "from io import BytesIO\n",
    "from PIL import Image\n",
    "from s3FileHandler import Boto3Client\n",
    "\n",
    "# Initialize a Boto3Client object\n",
    "client = Boto3Client()\n",
    "\n",
    "# Download a file from S3\n",
    "# client.download_from_s3(\"cutoutimagestore\", \"downloads\")\n",
    "\n",
    "# Upload a file to S3\n",
    "# with open(\"image1.jpg\", \"rb\") as f:\n",
    "#     file_body = BytesIO(f.read())\n",
    "client.upload_to_s3(\"cutoutimagestore\", \"image1.jpg\", \"test/image1.jpg\")\n",
    "\n",
    "# Generate a presigned URL for a file in S3\n",
    "url = client.generate_presigned_url(\"cutoutimagestore\", \"image1.jpg\")\n",
    "print(url)"
   ]
  },
  {
   "attachments": {},
   "cell_type": "markdown",
   "metadata": {},
   "source": [
    "# Cutout handler test"
   ]
  },
  {
   "cell_type": "code",
   "execution_count": 1,
   "metadata": {},
   "outputs": [
    {
     "name": "stderr",
     "output_type": "stream",
     "text": [
      "2023-07-20 00:05:55,564 [\u001b[32mDEBUG\u001b[0m] Processing image '00100sPORTRAIT_00100_BURST20221002203407257_COVER.jpg' with prompt 'person'\n"
     ]
    },
    {
     "name": "stdout",
     "output_type": "stream",
     "text": [
      "array_shape:  (1728, 2304, 3)\n"
     ]
    },
    {
     "name": "stderr",
     "output_type": "stream",
     "text": [
      "\n",
      "0: 480x640 1 vase, 77.8ms\n",
      "Speed: 11.6ms preprocess, 77.8ms inference, 26.8ms postprocess per image at shape (1, 3, 480, 640)\n",
      "2023-07-20 00:06:00,254 [\u001b[32mDEBUG\u001b[0m] Processed 0 masks for prompt 'person' in image '00100sPORTRAIT_00100_BURST20221002203407257_COVER.jpg'\n"
     ]
    },
    {
     "ename": "",
     "evalue": "",
     "output_type": "error",
     "traceback": [
      "\u001b[1;31mThe Kernel crashed while executing code in the the current cell or a previous cell. Please review the code in the cell(s) to identify a possible cause of the failure. Click <a href='https://aka.ms/vscodeJupyterKernelCrash'>here</a> for more info. View Jupyter <a href='command:jupyter.viewOutput'>log</a> for further details."
     ]
    }
   ],
   "source": [
    "import os\n",
    "from PIL import Image\n",
    "from cutoutHandler import CutoutHandler\n",
    "from segment_anything import sam_model_registry, SamPredictor\n",
    "from ultralytics import YOLO\n",
    "\n",
    "# LOAD SEGMENT ANYTHING MODEL\n",
    "sam_checkpoint = \"sam_vit_b_01ec64.pth\"\n",
    "model_type = \"vit_b\"\n",
    "\n",
    "device = \"cuda\"\n",
    "\n",
    "sam = sam_model_registry[model_type](checkpoint=sam_checkpoint)\n",
    "sam.to(device=device)\n",
    "\n",
    "predictor = SamPredictor(sam)\n",
    "\n",
    "# LOAD YOLO MODEL\n",
    "model = YOLO(\"yolov8n.pt\")\n",
    "\n",
    "# Define the path to the image file\n",
    "image_path = \"00100sPORTRAIT_00100_BURST20221002203407257_COVER.jpg\"\n",
    "\n",
    "# Load the image using PIL\n",
    "image = Image.open(image_path)\n",
    "\n",
    "# Define the prompt for the cutout\n",
    "prompt = \"person\"\n",
    "\n",
    "# Create a CutoutHandler object\n",
    "handler = CutoutHandler(model, predictor)\n",
    "\n",
    "# Process the image and generate the cutouts\n",
    "cutouts = handler.process_image(image, os.path.basename(image_path), prompt)\n",
    "\n",
    "# print(cutouts)\n",
    "# Display the generated cutouts\n",
    "for cutout in cutouts:\n",
    "    cutout_image = Image.open(cutout)\n",
    "    cutout_image.show()"
   ]
  }
 ],
 "metadata": {
  "kernelspec": {
   "display_name": "Python 3",
   "language": "python",
   "name": "python3"
  },
  "language_info": {
   "codemirror_mode": {
    "name": "ipython",
    "version": 3
   },
   "file_extension": ".py",
   "mimetype": "text/x-python",
   "name": "python",
   "nbconvert_exporter": "python",
   "pygments_lexer": "ipython3",
   "version": "3.10.6"
  },
  "orig_nbformat": 4
 },
 "nbformat": 4,
 "nbformat_minor": 2
}
